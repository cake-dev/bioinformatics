{
 "cells": [
  {
   "cell_type": "code",
   "execution_count": 12,
   "metadata": {},
   "outputs": [],
   "source": [
    "# Code Challenge: Implement PatternCount() (reproduced below).\n",
    "#      Input: Strings Text and Pattern.\n",
    "#      Output: Count(Text, Pattern).\n",
    "\n",
    "import sys\n",
    "\n",
    "# Please do not remove package declarations because these are used by the autograder.\n",
    "\n",
    "# Insert your PatternCount function here, along with any subroutines you need\n",
    "def pattern_count(text: str, pattern: str) -> int:\n",
    "    count = 0\n",
    "    for i in range(len(text)):\n",
    "        if (text[i:len(pattern) + i]) == pattern:\n",
    "            count+=1\n",
    "    return count"
   ]
  },
  {
   "cell_type": "code",
   "execution_count": 13,
   "metadata": {},
   "outputs": [],
   "source": [
    "# Code Challenge: Solve the Frequent Words Problem.\n",
    "\n",
    "# Input: A string Text and an integer k.\n",
    "# Output: All most frequent k-mers in Text.\n",
    "\n",
    "import sys\n",
    "\n",
    "# Please do not remove package declarations because these are used by the autograder.\n",
    "\n",
    "# Insert your frequent_words function here, along with any subroutines you need\n",
    "def frequent_words(text: str, k: int) -> list[str]:\n",
    "    \"\"\"Find the most frequent k-mers in a given text.\"\"\"\n",
    "    freqMap = {}\n",
    "    n = len(text)\n",
    "    for i in range(n):\n",
    "        pattern = text[i:k+i]\n",
    "        if pattern in freqMap.keys():\n",
    "            freqMap[pattern] += 1\n",
    "        else:\n",
    "            freqMap[pattern] = 1\n",
    "    max_val = max(freqMap.values())\n",
    "    frequent_patterns = list(filter(lambda x: freqMap[x] == max_val, freqMap))\n",
    "    return frequent_patterns"
   ]
  },
  {
   "cell_type": "code",
   "execution_count": 14,
   "metadata": {},
   "outputs": [],
   "source": [
    "# Reverse Complement Problem: Find the reverse complement of a DNA string.\n",
    "\n",
    "# Input: A DNA string Pattern.\n",
    "# Output: Patternrc , the reverse complement of Pattern.\n",
    "\n",
    "import sys\n",
    "\n",
    "# Please do not remove package declarations because these are used by the autograder.\n",
    "\n",
    "# Insert your reverse_complement function here, along with any subroutines you need\n",
    "def reverse_complement(pattern: str) -> str:\n",
    "    \"\"\"Calculate the reverse complement of a DNA pattern.\"\"\"\n",
    "    rev_str = pattern[::-1]\n",
    "    c_map = {\"A\": \"T\", \"C\": \"G\", \"T\": \"A\", \"G\": \"C\"}\n",
    "    rev_comp = \"\"\n",
    "    return rev_comp.join(c_map[base] for base in rev_str)"
   ]
  },
  {
   "cell_type": "code",
   "execution_count": 15,
   "metadata": {},
   "outputs": [],
   "source": [
    "# Code Challenge: Solve the Pattern Matching Problem.\n",
    "\n",
    "# Input: Two strings, Pattern and Genome.\n",
    "# Output: A collection of integers specifying all starting positions where Pattern appears as a substring of Genome.\n",
    "\n",
    "import sys\n",
    "\n",
    "# Please do not remove package declarations because these are used by the autograder.\n",
    "\n",
    "# Insert your pattern_matching function here, along with any subroutines you need\n",
    "def pattern_matching(pattern: str, genome: str) -> list[int]:\n",
    "    \"\"\"Find all occurrences of a pattern in a genome.\"\"\"\n",
    "    p_locs = []\n",
    "    for i in range(len(genome)):\n",
    "        if (genome[i:len(pattern) + i]) == pattern:\n",
    "            p_locs.append(i)\n",
    "    return p_locs"
   ]
  },
  {
   "cell_type": "code",
   "execution_count": 16,
   "metadata": {},
   "outputs": [
    {
     "name": "stdout",
     "output_type": "stream",
     "text": [
      "60039 98409 129189 152283 152354 152411 163207 197028 200160 357976 376771 392723 532935 600085 622755 1065555\n"
     ]
    }
   ],
   "source": [
    "# read the text file Vibrio_cholerae.txt\n",
    "# find the number of times the pattern \"CTTGATCAT\" occurs in the text file\n",
    "# return a space separated list of the starting positions of the pattern in the text file\n",
    "\n",
    "import sys\n",
    "import re # regular expressions\n",
    "\n",
    "def get_positions():\n",
    "    file_loc = \"Vibrio_cholerae.txt\"\n",
    "    with open(file_loc, 'r') as f:\n",
    "        text = f.read()\n",
    "    pattern = \"CTTGATCAT\"\n",
    "    positions = [str(m.start()) for m in re.finditer(pattern, text)] # regex here is more efficient than using a loop\n",
    "    # explanation: re.finditer returns an iterator of match objects\n",
    "    # m.start() returns the starting index of the match\n",
    "    # we convert the starting index to a string and store it in a list\n",
    "    # save the positions as a space separated text file\n",
    "    with open('output.txt', 'w') as f:\n",
    "        f.write(\" \".join(positions))\n",
    "    print(\" \".join(positions))\n",
    "\n",
    "get_positions()\n",
    "\n",
    "# now same as above but not using regex\n",
    "\n",
    "def solve2():\n",
    "    file_loc = \"Vibrio_cholerae.txt\"\n",
    "    with open(file_loc, 'r') as f:\n",
    "        text = f.read()\n",
    "    pattern = \"CTTGATCAT\"\n",
    "    positions = []\n",
    "    for i in range(len(text) - len(pattern) + 1):\n",
    "        if text[i:i+len(pattern)] == pattern:\n",
    "            positions.append(str(i))\n",
    "    with open('output2.txt', 'w') as f:\n",
    "        f.write(\" \".join(positions))\n",
    "    print(\" \".join(positions))"
   ]
  },
  {
   "cell_type": "code",
   "execution_count": 17,
   "metadata": {},
   "outputs": [],
   "source": [
    "# FindClumps(Text, k, L, t)\n",
    "#     Patterns ← an array of strings of length 0\n",
    "#     n ← |Text|\n",
    "#     for every integer i between 0 and n − L\n",
    "#         Window ← Text(i, L)\n",
    "#         freqMap ← FrequencyTable(Window, k)\n",
    "#         for every key s in freqMap\n",
    "#             if freqMap[s] ≥ t\n",
    "#                 append s to Patterns\n",
    "#     remove duplicates from Patterns\n",
    "#     return Patterns"
   ]
  },
  {
   "cell_type": "code",
   "execution_count": 8,
   "metadata": {},
   "outputs": [
    {
     "data": {
      "image/png": "[encoded data removed]",
      "text/plain": [
       "<Figure size 640x480 with 1 Axes>"
      ]
     },
     "metadata": {},
     "output_type": "display_data"
    },
    {
     "name": "stdout",
     "output_type": "stream",
     "text": [
      "([3818757, 3818759], [1486348, 1486350, 1486353, 1486360, 1486361, 1486362, 1486363, 1486364, 1486365, 1486366, 1486369, 1486370, 1486372])\n"
     ]
    }
   ],
   "source": [
    "# code for skew plot\n",
    "\n",
    "def skew_plot(genome: str) -> list[int]:\n",
    "    \"\"\"Calculate the skew of a genome.\"\"\"\n",
    "    skew = [0]\n",
    "    for i in range(len(genome)):\n",
    "        if genome[i] == \"C\":\n",
    "            skew.append(skew[i] - 1)\n",
    "        elif genome[i] == \"G\":\n",
    "            skew.append(skew[i] + 1)\n",
    "        else:\n",
    "            skew.append(skew[i])\n",
    "    return skew\n",
    "\n",
    "# plot the skew of the genome\n",
    "import matplotlib.pyplot as plt\n",
    "\n",
    "\n",
    "file_loc = \"Salmonella_enterica.txt\"\n",
    "with open(file_loc, 'r') as f:\n",
    "    genome = f.read()\n",
    "\n",
    "def plot_skew():\n",
    "    # read genome file\n",
    "    skew = skew_plot(genome)\n",
    "    plt.plot(skew)\n",
    "    plt.show()\n",
    "\n",
    "\n",
    "# get the positions of the minimum skew and maximum skew\n",
    "def min_max_skew(genome: str) -> list[int]:\n",
    "    \"\"\"Find the positions of the minimum and maximum skew.\"\"\"\n",
    "    skew = skew_plot(genome)\n",
    "    min_skew = min(skew)\n",
    "    max_skew = max(skew)\n",
    "    min_positions = [i for i, x in enumerate(skew) if x == min_skew]\n",
    "    max_positions = [i for i, x in enumerate(skew) if x == max_skew]\n",
    "    return min_positions, max_positions\n",
    "\n",
    "plot_skew()\n",
    "\n",
    "# now we will find the positions of the minimum and maximum skew in the genome\n",
    "print(min_max_skew(genome))"
   ]
  },
  {
   "cell_type": "code",
   "execution_count": 10,
   "metadata": {},
   "outputs": [
    {
     "name": "stdout",
     "output_type": "stream",
     "text": [
      "3818757 1486348\n"
     ]
    }
   ],
   "source": [
    "# get the skew array of the genome\n",
    "skew = skew_plot(genome)\n",
    "# get the index of the minimum skew value\n",
    "min_index = skew.index(min(skew))\n",
    "# get the index of the maximum skew value\n",
    "max_index = skew.index(max(skew))\n",
    "# print the indices of the minimum and maximum skew values\n",
    "print(min_index, max_index)"
   ]
  },
  {
   "cell_type": "code",
   "execution_count": 18,
   "metadata": {},
   "outputs": [
    {
     "ename": "ValueError",
     "evalue": "max() arg is an empty sequence",
     "output_type": "error",
     "traceback": [
      "\u001b[0;31m---------------------------------------------------------------------------\u001b[0m",
      "\u001b[0;31mValueError\u001b[0m                                Traceback (most recent call last)",
      "Cell \u001b[0;32mIn[18], line 3\u001b[0m\n\u001b[1;32m      1\u001b[0m \u001b[38;5;66;03m# run frequent_words on the genome between the minimum and maximum skew values\u001b[39;00m\n\u001b[1;32m      2\u001b[0m \u001b[38;5;66;03m# this will give us the most frequent 9-mers in the genome\u001b[39;00m\n\u001b[0;32m----> 3\u001b[0m \u001b[43mfrequent_words\u001b[49m\u001b[43m(\u001b[49m\u001b[43mgenome\u001b[49m\u001b[43m[\u001b[49m\u001b[43mmin_index\u001b[49m\u001b[43m:\u001b[49m\u001b[43mmax_index\u001b[49m\u001b[43m]\u001b[49m\u001b[43m,\u001b[49m\u001b[43m \u001b[49m\u001b[38;5;241;43m9\u001b[39;49m\u001b[43m)\u001b[49m\n",
      "Cell \u001b[0;32mIn[13], line 21\u001b[0m, in \u001b[0;36mfrequent_words\u001b[0;34m(text, k)\u001b[0m\n\u001b[1;32m     19\u001b[0m     \u001b[38;5;28;01melse\u001b[39;00m:\n\u001b[1;32m     20\u001b[0m         freqMap[pattern] \u001b[38;5;241m=\u001b[39m \u001b[38;5;241m1\u001b[39m\n\u001b[0;32m---> 21\u001b[0m max_val \u001b[38;5;241m=\u001b[39m \u001b[38;5;28;43mmax\u001b[39;49m\u001b[43m(\u001b[49m\u001b[43mfreqMap\u001b[49m\u001b[38;5;241;43m.\u001b[39;49m\u001b[43mvalues\u001b[49m\u001b[43m(\u001b[49m\u001b[43m)\u001b[49m\u001b[43m)\u001b[49m\n\u001b[1;32m     22\u001b[0m frequent_patterns \u001b[38;5;241m=\u001b[39m \u001b[38;5;28mlist\u001b[39m(\u001b[38;5;28mfilter\u001b[39m(\u001b[38;5;28;01mlambda\u001b[39;00m x: freqMap[x] \u001b[38;5;241m==\u001b[39m max_val, freqMap))\n\u001b[1;32m     23\u001b[0m \u001b[38;5;28;01mreturn\u001b[39;00m frequent_patterns\n",
      "\u001b[0;31mValueError\u001b[0m: max() arg is an empty sequence"
     ]
    }
   ],
   "source": [
    "# run frequent_words on the genome between the minimum and maximum skew values\n",
    "# this will give us the most frequent 9-mers in the genome\n",
    "frequent_words(genome[min_index:max_index], 9)"
   ]
  }
 ],
 "metadata": {
  "kernelspec": {
   "display_name": "mathenv",
   "language": "python",
   "name": "python3"
  },
  "language_info": {
   "codemirror_mode": {
    "name": "ipython",
    "version": 3
   },
   "file_extension": ".py",
   "mimetype": "text/x-python",
   "name": "python",
   "nbconvert_exporter": "python",
   "pygments_lexer": "ipython3",
   "version": "3.10.0"
  }
 },
 "nbformat": 4,
 "nbformat_minor": 2
}
