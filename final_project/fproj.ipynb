{
 "cells": [
  {
   "cell_type": "code",
   "execution_count": 26,
   "metadata": {},
   "outputs": [],
   "source": [
    "import random\n",
    "import toyplot"
   ]
  },
  {
   "cell_type": "code",
   "execution_count": 27,
   "metadata": {},
   "outputs": [],
   "source": [
    "def get_kmer_count_from_sequence(sequence, k=3, cyclic=True):\n",
    "    \"\"\"\n",
    "    Returns dictionary with keys representing all possible kmers in a sequence\n",
    "    and values counting their occurrence in the sequence.\n",
    "    \"\"\"\n",
    "    # dict to store kmers\n",
    "    kmers = {}\n",
    "    \n",
    "    # count how many times each occurred in this sequence (treated as cyclic)\n",
    "    for i in range(0, len(sequence)):\n",
    "        kmer = sequence[i:i + k]\n",
    "        \n",
    "        # for cyclic sequence get kmers that wrap from end to beginning\n",
    "        length = len(kmer)\n",
    "        if cyclic:\n",
    "            if len(kmer) != k:\n",
    "                kmer += sequence[:(k - length)]\n",
    "        \n",
    "        # if not cyclic then skip kmers at end of sequence\n",
    "        else:\n",
    "            if len(kmer) != k:\n",
    "                continue\n",
    "        \n",
    "        # count occurrence of this kmer in sequence\n",
    "        if kmer in kmers:\n",
    "            kmers[kmer] += 1\n",
    "        else:\n",
    "            kmers[kmer] = 1\n",
    "    \n",
    "    return kmers"
   ]
  },
  {
   "cell_type": "code",
   "execution_count": 28,
   "metadata": {},
   "outputs": [],
   "source": [
    "def short_read_sequencing(sequence, nreads, readlen):\n",
    "    \"generate short reads from a circular genome\"\n",
    "    \n",
    "    # do not allow reads to be longer than genome\n",
    "    assert len(sequence) > readlen, \"readlen must be shorter than sequence\"\n",
    "    \n",
    "    # get random start positions of short reads\n",
    "    starts = [random.randint(0, len(sequence)) for i in range(nreads)]\n",
    "    \n",
    "    # return reads as a list, generate reads by slicing from sequence\n",
    "    reads = []\n",
    "    for position in starts:\n",
    "        end = position + readlen\n",
    "        \n",
    "        # if read extends past end then loop to beginning of sequence\n",
    "        if end > len(sequence):\n",
    "            read = sequence[position:len(sequence)] + sequence[0:end-len(sequence)]\n",
    "        else:\n",
    "            read = sequence[position:position + readlen]\n",
    "        \n",
    "        # append to reads list\n",
    "        reads.append(read)\n",
    "    return reads"
   ]
  },
  {
   "cell_type": "code",
   "execution_count": 29,
   "metadata": {},
   "outputs": [],
   "source": [
    "def get_kmer_count_from_reads(reads, k=3):\n",
    "    \"Combines results of 'get_kmer_count_from_sequence()' across many reads\"\n",
    "   \n",
    "    # a dictionary to store kmer counts in\n",
    "    kmers = {}\n",
    "    \n",
    "    # iterate over reads\n",
    "    for read in reads:\n",
    "        \n",
    "        # get kmer count for this read\n",
    "        ikmers = get_kmer_count_from_sequence(read, k, cyclic=False)\n",
    "        \n",
    "        # add this kmer count to the global kmer counter across all reads\n",
    "        for key, value in ikmers.items():\n",
    "            if key in kmers:\n",
    "                kmers[key] += value\n",
    "            else:\n",
    "                kmers[key] = value\n",
    "                \n",
    "    # return kmer counts\n",
    "    return kmers"
   ]
  },
  {
   "cell_type": "code",
   "execution_count": 30,
   "metadata": {},
   "outputs": [],
   "source": [
    "def get_debruijn_edges_from_kmers(kmers):\n",
    "    \"\"\"\n",
    "    Every possible (k-1)mer (n-1 suffix and prefix of kmers) is assigned\n",
    "    to a node, and we connect one node to another if the (k-1)mer overlaps \n",
    "    another. Nodes are (k-1)mers, edges are kmers.\n",
    "    \"\"\"\n",
    "    # store edges as tuples in a set\n",
    "    edges = set()\n",
    "    \n",
    "    # compare each (k-1)mer\n",
    "    for k1 in kmers:\n",
    "        for k2 in kmers:\n",
    "            if k1 != k2:            \n",
    "                # if they overlap then add to edges\n",
    "                if k1[1:] == k2[:-1]:\n",
    "                    edges.add((k1[:-1], k2[:-1]))\n",
    "                if k1[:-1] == k2[1:]:\n",
    "                    edges.add((k2[:-1], k1[:-1]))\n",
    "\n",
    "    return edges"
   ]
  },
  {
   "cell_type": "code",
   "execution_count": 31,
   "metadata": {},
   "outputs": [],
   "source": [
    "def plot_debruijn_graph(edges, width=500, height=500):\n",
    "    \"returns a toyplot graph from an input of edges\"\n",
    "    graph = toyplot.graph(\n",
    "        [i[0] for i in edges],\n",
    "        [i[1] for i in edges],\n",
    "        width=width,\n",
    "        height=height,\n",
    "        tmarker=\">\", \n",
    "        vsize=25,\n",
    "        vstyle={\"stroke\": \"black\", \"stroke-width\": 2, \"fill\": \"white\"},\n",
    "        vlstyle={\"font-size\": \"11px\"},\n",
    "        estyle={\"stroke\": \"black\", \"stroke-width\": 2},\n",
    "        layout=toyplot.layout.FruchtermanReingold(edges=toyplot.layout.CurvedEdges()))\n",
    "    return graph"
   ]
  },
  {
   "cell_type": "code",
   "execution_count": 32,
   "metadata": {},
   "outputs": [],
   "source": [
    "def random_sequence(seqlen):\n",
    "    \"Generate a random DNA sequence of a given length \"\n",
    "    return \"\".join([random.choice(\"ACGT\") for i in range(seqlen)])"
   ]
  },
  {
   "cell_type": "code",
   "execution_count": null,
   "metadata": {},
   "outputs": [],
   "source": [
    "# set a random seed \n",
    "random.seed(123)\n",
    "\n",
    "# get a random genome sequence\n",
    "genome1 = random_sequence(25)\n",
    "genome1"
   ]
  },
  {
   "cell_type": "code",
   "execution_count": null,
   "metadata": {},
   "outputs": [],
   "source": [
    "# not all possible kmers occur in this sequence, some occur multiple times.\n",
    "kmers = get_kmer_count_from_sequence(genome1, k=3)\n",
    "kmers"
   ]
  },
  {
   "cell_type": "code",
   "execution_count": null,
   "metadata": {},
   "outputs": [],
   "source": [
    "# edges of connected (k-1)mers for k=3 representing the db graph\n",
    "edges = get_debruijn_edges_from_kmers(kmers)\n",
    "edges"
   ]
  },
  {
   "cell_type": "code",
   "execution_count": null,
   "metadata": {},
   "outputs": [],
   "source": [
    "# get kmers\n",
    "kmers = get_kmer_count_from_sequence(genome1, k=6, cyclic=True)\n",
    "\n",
    "# get db graph\n",
    "edges = get_debruijn_edges_from_kmers(kmers)\n",
    "\n",
    "# plot db graph\n",
    "plot_debruijn_graph(edges, width=600, height=400);\n",
    "\n",
    "# print the true sequence\n",
    "print(\"the true sequence: {}\".format(genome1))"
   ]
  },
  {
   "cell_type": "code",
   "execution_count": null,
   "metadata": {},
   "outputs": [],
   "source": [
    "# get kmers\n",
    "kmers = get_kmer_count_from_sequence(genome1, k=6, cyclic=False)\n",
    "\n",
    "# get db graph\n",
    "edges = get_debruijn_edges_from_kmers(kmers)\n",
    "\n",
    "# plot db graph\n",
    "plot_debruijn_graph(edges, width=600, height=400);\n",
    "\n",
    "# print the true sequence\n",
    "print(\"the true sequence: {}\".format(genome1))"
   ]
  },
  {
   "cell_type": "code",
   "execution_count": null,
   "metadata": {},
   "outputs": [],
   "source": [
    "kmers = get_kmer_count_from_sequence(genome1, k=4, cyclic=False)\n",
    "edges = get_debruijn_edges_from_kmers(kmers)\n",
    "plot_debruijn_graph(edges, width=800, height=400)"
   ]
  },
  {
   "cell_type": "code",
   "execution_count": null,
   "metadata": {},
   "outputs": [],
   "source": [
    "random.seed(123)\n",
    "genome = random_sequence(50)\n",
    "reads = short_read_sequencing(genome, 1000, 15)\n",
    "kmers = get_kmer_count_from_reads(reads, k=8)\n",
    "edges = get_debruijn_edges_from_kmers(kmers)\n",
    "plot_debruijn_graph(edges);\n",
    "print(genome)"
   ]
  }
 ],
 "metadata": {
  "kernelspec": {
   "display_name": "aispace",
   "language": "python",
   "name": "python3"
  },
  "language_info": {
   "codemirror_mode": {
    "name": "ipython",
    "version": 3
   },
   "file_extension": ".py",
   "mimetype": "text/x-python",
   "name": "python",
   "nbconvert_exporter": "python",
   "pygments_lexer": "ipython3",
   "version": "3.11.4"
  }
 },
 "nbformat": 4,
 "nbformat_minor": 2
}
